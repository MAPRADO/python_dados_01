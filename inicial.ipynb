version https://git-lfs.github.com/spec/v1
oid sha256:76d934b799a1ebdbac9dd67b223c5089833cfb85cc8170675e5fca1ba950221d
size 50455260
